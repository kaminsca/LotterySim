{
 "cells": [
  {
   "cell_type": "code",
   "execution_count": 1,
   "metadata": {},
   "outputs": [],
   "source": [
    "import random\n",
    "from tqdm.notebook import tqdm"
   ]
  },
  {
   "cell_type": "code",
   "execution_count": 2,
   "metadata": {},
   "outputs": [],
   "source": [
    "def random_choice(p, answer):\n",
    "    count = 1\n",
    "    choice = random.randint(1, p)\n",
    "    while (choice != answer):\n",
    "        count += 1\n",
    "        choice = random.randint(1, p)\n",
    "    return count"
   ]
  },
  {
   "cell_type": "code",
   "execution_count": 3,
   "metadata": {},
   "outputs": [],
   "source": [
    "def random_no_repeats(p, answer):\n",
    "    count = 1\n",
    "    choice = random.randint(1,p)\n",
    "    used_nums = set()\n",
    "    while (choice != answer):\n",
    "        used_nums.add(choice)\n",
    "        count += 1\n",
    "        choice = random.randint(1, p)\n",
    "        while(choice in used_nums):\n",
    "            choice = random.randint(1, p)\n",
    "    return count"
   ]
  },
  {
   "cell_type": "code",
   "execution_count": 4,
   "metadata": {},
   "outputs": [],
   "source": [
    "def random_choice_powerball(n, p, answer):\n",
    "    count = 1\n",
    "    choices = random.sample(range(1, p), n)\n",
    "    while (choices != answer):\n",
    "        count += 1\n",
    "        choices = random.sample(range(1, p), n)\n",
    "    return count"
   ]
  },
  {
   "cell_type": "code",
   "execution_count": 5,
   "metadata": {},
   "outputs": [],
   "source": [
    "def no_repeats_powerball(n, p, answer):\n",
    "    count = 1\n",
    "    choices = random.sample(range(1, p), n)\n",
    "    used_nums = set()\n",
    "    while (choices != answer):\n",
    "        choices_tuple = tuple(choices)\n",
    "        used_nums.add(choices_tuple)\n",
    "        count += 1\n",
    "        choices = random.sample(range(1, p), n)\n",
    "        choices_tuple = tuple(choices) \n",
    "        while(choices_tuple in used_nums):\n",
    "            choices = random.sample(range(1, p), n)\n",
    "            choices_tuple = tuple(choices)\n",
    "    return count"
   ]
  },
  {
   "cell_type": "code",
   "execution_count": 11,
   "metadata": {},
   "outputs": [
    {
     "data": {
      "application/vnd.jupyter.widget-view+json": {
       "model_id": "dd39307bbb0840e3af0c4e45137b10c0",
       "version_major": 2,
       "version_minor": 0
      },
      "text/plain": [
       "Processing:   0%|          | 0/100 [00:00<?, ?it/s]"
      ]
     },
     "metadata": {},
     "output_type": "display_data"
    },
    {
     "name": "stdout",
     "output_type": "stream",
     "text": [
      "avg from powerball replication: 1462024.76\n"
     ]
    },
    {
     "data": {
      "application/vnd.jupyter.widget-view+json": {
       "model_id": "6fb48eb192024eedadd5ec4e78d40c50",
       "version_major": 2,
       "version_minor": 0
      },
      "text/plain": [
       "Processing:   0%|          | 0/100 [00:00<?, ?it/s]"
      ]
     },
     "metadata": {},
     "output_type": "display_data"
    },
    {
     "name": "stdout",
     "output_type": "stream",
     "text": [
      "avg from powerball replication with no repeats: 655071.7\n"
     ]
    }
   ],
   "source": [
    "domain = 20\n",
    "num_choices = 5\n",
    "iterations = 100000\n",
    "\n",
    "# sum = 0\n",
    "# for i in range(iterations):\n",
    "#     res = random_choice(domain, random.randint(1, 10))\n",
    "#     sum += res\n",
    "# avg = sum / iterations\n",
    "# print(f'avg from random choice: {avg}')\n",
    "\n",
    "# sum2 = 0\n",
    "# for i in range(iterations):\n",
    "#     res = random_no_repeats(domain, random.randint(1, 10))\n",
    "#     sum2 += res\n",
    "# avg2 = sum2 / iterations\n",
    "# print(f'avg from no repeats choice: {avg2}')\n",
    "\n",
    "iterations = 100\n",
    "sum3 = 0\n",
    "for i in tqdm(range(iterations), desc=\"Processing\"):\n",
    "    res = random_choice_powerball(num_choices, domain, random.sample(range(1, domain), num_choices))\n",
    "    sum3 += res\n",
    "avg3 = sum3 / iterations\n",
    "print(f'avg from powerball replication: {avg3}')\n",
    "\n",
    "sum4 = 0\n",
    "for i in tqdm(range(iterations), desc=\"Processing\"):\n",
    "    res = no_repeats_powerball(num_choices, domain, random.sample(range(1, domain), num_choices))\n",
    "    # print(res)\n",
    "    sum4 += res\n",
    "avg4 = sum4 / iterations\n",
    "print(f'avg from powerball replication with no repeats: {avg4}')"
   ]
  },
  {
   "cell_type": "code",
   "execution_count": null,
   "metadata": {},
   "outputs": [],
   "source": []
  }
 ],
 "metadata": {
  "colab": {
   "collapsed_sections": [
    "84FJ3UeaBy-D"
   ],
   "name": "lab2_answer_ver.ipynb",
   "provenance": []
  },
  "kernelspec": {
   "display_name": "Python 3 (ipykernel)",
   "language": "python",
   "name": "python3"
  },
  "language_info": {
   "codemirror_mode": {
    "name": "ipython",
    "version": 3
   },
   "file_extension": ".py",
   "mimetype": "text/x-python",
   "name": "python",
   "nbconvert_exporter": "python",
   "pygments_lexer": "ipython3",
   "version": "3.12.0"
  }
 },
 "nbformat": 4,
 "nbformat_minor": 4
}
